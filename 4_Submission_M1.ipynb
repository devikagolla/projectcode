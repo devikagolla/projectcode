{
 "cells": [
  {
   "cell_type": "markdown",
   "metadata": {},
   "source": [
    "# Model training and prediction"
   ]
  },
  {
   "cell_type": "markdown",
   "metadata": {},
   "source": [
    "This file implements the LightGBM method. Hyperparameters are set and the model is trained. Afterwards the model is saved in `../models/model_M1.p`.\n",
    "\n",
    "Validating the model with values from the test set is implemented at the end. A list of all used features sorted by their importance is also printed out."
   ]
  },
  {
   "cell_type": "markdown",
   "metadata": {},
   "source": [
    "***\n",
    "\n",
    "Optional befor training the model (not mentioned in this code):\n",
    "\n",
    "To gain a good fitting model, hyperparameters are tuned. Bayesian Hyperparameter Optimization was used for that job (with the hyperopt-library).\n",
    "\n",
    "In this process, a 3 folded Cross Validation was used to return the best fitted model.\n",
    "\n",
    "***"
   ]
  },
  {
   "cell_type": "markdown",
   "metadata": {},
   "source": [
    "## import libraries / delcare functions"
   ]
  },
  {
   "cell_type": "code",
   "execution_count": 6,
   "metadata": {},
   "outputs": [],
   "source": [
    "import os\n",
    "os.chdir('G:\\\\DataScience\\\\shiva time\\\\Microsoft Malware Prediction')"
   ]
  },
  {
   "cell_type": "code",
   "execution_count": 2,
   "metadata": {},
   "outputs": [
    {
     "name": "stdout",
     "output_type": "stream",
     "text": [
      "Collecting lightgbm\n",
      "  Downloading https://files.pythonhosted.org/packages/1f/cb/a8ec24334c35a7d0c87b4e4e056bd2137573c7c1bd81c760b79a2f370254/lightgbm-2.3.1-py2.py3-none-win_amd64.whl (544kB)\n",
      "Requirement already satisfied: scikit-learn in c:\\users\\bharat\\anaconda3\\lib\\site-packages (from lightgbm) (0.22.1)\n",
      "Requirement already satisfied: scipy in c:\\users\\bharat\\anaconda3\\lib\\site-packages (from lightgbm) (1.4.1)\n",
      "Requirement already satisfied: numpy in c:\\users\\bharat\\anaconda3\\lib\\site-packages (from lightgbm) (1.16.5)\n",
      "Requirement already satisfied: joblib>=0.11 in c:\\users\\bharat\\anaconda3\\lib\\site-packages (from scikit-learn->lightgbm) (0.13.2)\n",
      "Installing collected packages: lightgbm\n",
      "Successfully installed lightgbm-2.3.1\n"
     ]
    }
   ],
   "source": [
    "!pip install lightgbm"
   ]
  },
  {
   "cell_type": "code",
   "execution_count": 3,
   "metadata": {
    "ExecuteTime": {
     "end_time": "2019-03-20T06:58:03.029133Z",
     "start_time": "2019-03-20T06:58:00.562385Z"
    }
   },
   "outputs": [],
   "source": [
    "import pandas as pd\n",
    "import numpy as np\n",
    "import dask.dataframe as dd\n",
    "import lightgbm as lgb\n",
    "import pickle\n"
   ]
  },
  {
   "cell_type": "code",
   "execution_count": 44,
   "metadata": {},
   "outputs": [],
   "source": [
    "from sklearn.metrics import confusion_matrix, classification_report\n",
    "from sklearn.metrics import roc_curve, auc\n",
    "import matplotlib.pyplot as plt"
   ]
  },
  {
   "cell_type": "code",
   "execution_count": 4,
   "metadata": {
    "ExecuteTime": {
     "end_time": "2019-03-20T06:58:03.079994Z",
     "start_time": "2019-03-20T06:58:03.068833Z"
    }
   },
   "outputs": [],
   "source": [
    "def convert_types(df):\n",
    "    # Convert data types to reduce memory\n",
    "    for c in df:\n",
    "        col_type = str(df[c].dtypes)\n",
    "        numerics = ['int16', 'int32', 'int64', 'float16', 'float32', 'float64']\n",
    "        \n",
    "        # Convert objects to category\n",
    "        if col_type == 'object':\n",
    "            df[c] = df[c].astype('category')\n",
    "        \n",
    "        # numerics\n",
    "        elif col_type in numerics:\n",
    "            c_min = df[c].min()\n",
    "            c_max = df[c].max()\n",
    "            if col_type[:3] == 'int':\n",
    "                if c_min > np.iinfo(np.int8).min and c_max < np.iinfo(np.int8).max:\n",
    "                    df[c] = df[c].astype(np.int8)\n",
    "                elif c_min > np.iinfo(np.int16).min and c_max < np.iinfo(np.int16).max:\n",
    "                    df[c] = df[c].astype(np.int16)\n",
    "                elif c_min > np.iinfo(np.int32).min and c_max < np.iinfo(np.int32).max:\n",
    "                    df[c] = df[c].astype(np.int32)\n",
    "                elif c_min > np.iinfo(np.int64).min and c_max < np.iinfo(np.int64).max:\n",
    "                    df[c] = df[c].astype(np.int64)  \n",
    "            else:\n",
    "                if c_min > np.finfo(np.float16).min and c_max < np.finfo(np.float16).max:\n",
    "                    df[c] = df[c].astype(np.float16)\n",
    "                elif c_min > np.finfo(np.float32).min and c_max < np.finfo(np.float32).max:\n",
    "                    df[c] = df[c].astype(np.float32)\n",
    "                else:\n",
    "                    df[c] = df[c].astype(np.float64)  \n",
    "        \n",
    "    return df"
   ]
  },
  {
   "cell_type": "markdown",
   "metadata": {},
   "source": [
    "## Import Data"
   ]
  },
  {
   "cell_type": "code",
   "execution_count": 8,
   "metadata": {
    "ExecuteTime": {
     "end_time": "2019-03-20T07:00:26.507813Z",
     "start_time": "2019-03-20T06:58:03.106900Z"
    }
   },
   "outputs": [
    {
     "name": "stderr",
     "output_type": "stream",
     "text": [
      "C:\\Users\\bharat\\Anaconda3\\lib\\site-packages\\ipykernel_launcher.py:25: RuntimeWarning: invalid value encountered in less\n",
      "C:\\Users\\bharat\\Anaconda3\\lib\\site-packages\\ipykernel_launcher.py:27: RuntimeWarning: invalid value encountered in less\n"
     ]
    }
   ],
   "source": [
    "filetrain = 'train_M1.csv'\n",
    "ddf = dd.read_csv(filetrain)\n",
    "train = ddf.compute()\n",
    "train = convert_types(train)\n",
    "filetest = 'test_M1.csv'\n",
    "ddf = dd.read_csv(filetest)\n",
    "test = ddf.compute()\n",
    "test = convert_types(test)"
   ]
  },
  {
   "cell_type": "code",
   "execution_count": 9,
   "metadata": {
    "ExecuteTime": {
     "end_time": "2019-03-20T07:00:34.364698Z",
     "start_time": "2019-03-20T07:00:34.355721Z"
    }
   },
   "outputs": [],
   "source": [
    "# target column\n",
    "target = 'HasDetections'\n",
    "# id from data set\n",
    "data_id = 'MachineIdentifier'"
   ]
  },
  {
   "cell_type": "code",
   "execution_count": 10,
   "metadata": {
    "ExecuteTime": {
     "end_time": "2019-03-20T07:00:42.100363Z",
     "start_time": "2019-03-20T07:00:42.092354Z"
    }
   },
   "outputs": [
    {
     "data": {
      "text/plain": [
       "(300000, 72)"
      ]
     },
     "execution_count": 10,
     "metadata": {},
     "output_type": "execute_result"
    }
   ],
   "source": [
    "train.shape"
   ]
  },
  {
   "cell_type": "code",
   "execution_count": 11,
   "metadata": {
    "ExecuteTime": {
     "end_time": "2019-03-20T07:00:50.160709Z",
     "start_time": "2019-03-20T07:00:50.156721Z"
    }
   },
   "outputs": [
    {
     "data": {
      "text/plain": [
       "(5000, 72)"
      ]
     },
     "execution_count": 11,
     "metadata": {},
     "output_type": "execute_result"
    }
   ],
   "source": [
    "test.shape\n",
    "# rows=7.853.253"
   ]
  },
  {
   "cell_type": "markdown",
   "metadata": {},
   "source": [
    "# Model Training"
   ]
  },
  {
   "cell_type": "markdown",
   "metadata": {},
   "source": [
    "## prepare files for training and prediction"
   ]
  },
  {
   "cell_type": "code",
   "execution_count": 12,
   "metadata": {
    "ExecuteTime": {
     "end_time": "2019-03-20T07:02:18.073531Z",
     "start_time": "2019-03-20T07:02:18.000744Z"
    }
   },
   "outputs": [],
   "source": [
    "# labels from train file\n",
    "train_labels = np.array(train[target].astype(np.int8)).reshape((-1, ))"
   ]
  },
  {
   "cell_type": "code",
   "execution_count": 13,
   "metadata": {
    "ExecuteTime": {
     "end_time": "2019-03-20T07:02:27.273101Z",
     "start_time": "2019-03-20T07:02:25.635767Z"
    }
   },
   "outputs": [],
   "source": [
    "# remove target and data_id for model training\n",
    "train = train.drop(columns = [target, data_id])"
   ]
  },
  {
   "cell_type": "code",
   "execution_count": 14,
   "metadata": {
    "ExecuteTime": {
     "end_time": "2019-03-20T07:02:44.190555Z",
     "start_time": "2019-03-20T07:02:43.506277Z"
    }
   },
   "outputs": [],
   "source": [
    "# save data_id for submission file\n",
    "test_ids = list(test[data_id])"
   ]
  },
  {
   "cell_type": "code",
   "execution_count": 15,
   "metadata": {
    "ExecuteTime": {
     "end_time": "2019-03-20T07:02:58.878686Z",
     "start_time": "2019-03-20T07:02:57.479961Z"
    }
   },
   "outputs": [],
   "source": [
    "# remove target and data_id for prediction\n",
    "test = test.drop(columns = [target, data_id])"
   ]
  },
  {
   "cell_type": "markdown",
   "metadata": {},
   "source": [
    "## Set parameters for LightGBM algorithm"
   ]
  },
  {
   "cell_type": "code",
   "execution_count": 16,
   "metadata": {
    "ExecuteTime": {
     "end_time": "2019-03-20T07:03:19.878833Z",
     "start_time": "2019-03-20T07:03:19.873876Z"
    }
   },
   "outputs": [],
   "source": [
    "# Categorical features for LighGBM parameter\n",
    "categorical_feature = ['OsPlatformSubRelease',\n",
    " 'Census_MDC2FormFactor_new',\n",
    " 'Census_FlightRing',\n",
    " 'Census_PrimaryDiskTypeName',\n",
    " 'Census_OSSkuName',\n",
    " 'Census_OSBranch',\n",
    " 'OsVer',\n",
    " 'SkuEdition',\n",
    " 'Census_OSArchitecture',\n",
    " 'Census_OSEdition',\n",
    " 'Census_GenuineStateName',\n",
    " 'Processor',\n",
    " 'SmartScreen',\n",
    " 'Census_OSInstallTypeName',\n",
    " 'Census_OSWUAutoUpdateOptionsName',\n",
    " 'Census_ChassisTypeName',\n",
    " 'Census_MDC2FormFactor',\n",
    " 'Platform',\n",
    " 'Census_DeviceFamily',\n",
    " 'Census_ActivationChannel',\n",
    " 'Census_PowerPlatformRoleName',\n",
    " 'Census_InternalPrimaryDiagonalDisplaySizeInInches',\n",
    " 'Census_ProcessorCoreCount',\n",
    " 'Census_HasOpticalDiskDrive',\n",
    " 'Census_IsAlwaysOnAlwaysConnectedCapable',\n",
    " 'Census_IsPenCapable',\n",
    " 'Census_IsPortableOperatingSystem',\n",
    " 'Census_IsSecureBootEnabled',\n",
    " 'Census_IsTouchEnabled',\n",
    " 'Census_IsVirtualDevice',\n",
    " 'Firewall',\n",
    " 'HasTpm',\n",
    " 'IsProtected',\n",
    " 'IsSxsPassiveMode',\n",
    " 'SMode',\n",
    " 'Wdft_IsGamer']"
   ]
  },
  {
   "cell_type": "code",
   "execution_count": 17,
   "metadata": {
    "ExecuteTime": {
     "end_time": "2019-03-20T07:03:30.780828Z",
     "start_time": "2019-03-20T07:03:30.776838Z"
    }
   },
   "outputs": [],
   "source": [
    "best_hyp = {'boosting_type': 'gbdt',\n",
    " 'class_weight': None,\n",
    " 'colsample_bytree': 0.6110437067662637,\n",
    " 'learning_rate': 0.0106,\n",
    " 'min_child_samples': 295,\n",
    " 'num_leaves': 160,\n",
    " 'reg_alpha': 0.6321152748961743,\n",
    " 'reg_lambda': 0.6313659622714517,\n",
    " 'subsample_for_bin': 80000,\n",
    " 'subsample': 0.8202307264855064}"
   ]
  },
  {
   "cell_type": "code",
   "execution_count": 18,
   "metadata": {
    "ExecuteTime": {
     "end_time": "2019-03-20T07:03:41.520525Z",
     "start_time": "2019-03-20T07:03:41.517532Z"
    }
   },
   "outputs": [],
   "source": [
    "estimators = 12000"
   ]
  },
  {
   "cell_type": "code",
   "execution_count": 19,
   "metadata": {},
   "outputs": [],
   "source": [
    "from sklearn.model_selection import train_test_split"
   ]
  },
  {
   "cell_type": "code",
   "execution_count": 21,
   "metadata": {},
   "outputs": [],
   "source": [
    "X_train, X_test, y_train, y_test = train_test_split(train, train_labels, test_size=0.33, random_state=42)"
   ]
  },
  {
   "cell_type": "code",
   "execution_count": null,
   "metadata": {},
   "outputs": [],
   "source": []
  },
  {
   "cell_type": "markdown",
   "metadata": {},
   "source": [
    "## Train model"
   ]
  },
  {
   "cell_type": "code",
   "execution_count": 22,
   "metadata": {
    "ExecuteTime": {
     "end_time": "2019-03-20T07:03:52.186797Z",
     "start_time": "2019-03-20T07:03:52.182807Z"
    }
   },
   "outputs": [],
   "source": [
    "train_set = lgb.Dataset(train, label = train_labels)"
   ]
  },
  {
   "cell_type": "code",
   "execution_count": 23,
   "metadata": {
    "ExecuteTime": {
     "end_time": "2019-03-20T07:04:51.615420Z",
     "start_time": "2019-03-20T07:04:51.612447Z"
    }
   },
   "outputs": [],
   "source": [
    "# Re-create the best model and train on full training data\n",
    "model = lgb.LGBMClassifier(n_estimators=estimators, n_jobs = -1, \n",
    "                                       objective = 'binary', random_state = 50, **best_hyp)"
   ]
  },
  {
   "cell_type": "code",
   "execution_count": 24,
   "metadata": {
    "ExecuteTime": {
     "end_time": "2019-03-20T08:57:41.658138Z",
     "start_time": "2019-03-20T07:05:02.511896Z"
    }
   },
   "outputs": [
    {
     "name": "stderr",
     "output_type": "stream",
     "text": [
      "C:\\Users\\bharat\\Anaconda3\\lib\\site-packages\\lightgbm\\basic.py:1295: UserWarning: categorical_feature in Dataset is overridden.\n",
      "New categorical_feature is ['Census_ActivationChannel', 'Census_ChassisTypeName', 'Census_DeviceFamily', 'Census_FlightRing', 'Census_GenuineStateName', 'Census_HasOpticalDiskDrive', 'Census_InternalPrimaryDiagonalDisplaySizeInInches', 'Census_IsAlwaysOnAlwaysConnectedCapable', 'Census_IsPenCapable', 'Census_IsPortableOperatingSystem', 'Census_IsSecureBootEnabled', 'Census_IsTouchEnabled', 'Census_IsVirtualDevice', 'Census_MDC2FormFactor', 'Census_MDC2FormFactor_new', 'Census_OSArchitecture', 'Census_OSBranch', 'Census_OSEdition', 'Census_OSInstallTypeName', 'Census_OSSkuName', 'Census_OSWUAutoUpdateOptionsName', 'Census_PowerPlatformRoleName', 'Census_PrimaryDiskTypeName', 'Census_ProcessorCoreCount', 'Firewall', 'HasTpm', 'IsProtected', 'IsSxsPassiveMode', 'OsPlatformSubRelease', 'OsVer', 'Platform', 'Processor', 'SMode', 'SkuEdition', 'SmartScreen', 'Wdft_IsGamer']\n",
      "  'New categorical_feature is {}'.format(sorted(list(categorical_feature))))\n"
     ]
    },
    {
     "data": {
      "text/plain": [
       "LGBMClassifier(boosting_type='gbdt', class_weight=None,\n",
       "               colsample_bytree=0.6110437067662637, importance_type='split',\n",
       "               learning_rate=0.0106, max_depth=-1, min_child_samples=295,\n",
       "               min_child_weight=0.001, min_split_gain=0.0, n_estimators=12000,\n",
       "               n_jobs=-1, num_leaves=160, objective='binary', random_state=50,\n",
       "               reg_alpha=0.6321152748961743, reg_lambda=0.6313659622714517,\n",
       "               silent=True, subsample=0.8202307264855064,\n",
       "               subsample_for_bin=80000, subsample_freq=0)"
      ]
     },
     "execution_count": 24,
     "metadata": {},
     "output_type": "execute_result"
    }
   ],
   "source": [
    "model.fit(X_train, y_train, categorical_feature=categorical_feature)\n",
    "# time: 1h 52min 39s"
   ]
  },
  {
   "cell_type": "code",
   "execution_count": 27,
   "metadata": {},
   "outputs": [
    {
     "data": {
      "text/plain": [
       "0.6428989898989899"
      ]
     },
     "execution_count": 27,
     "metadata": {},
     "output_type": "execute_result"
    }
   ],
   "source": [
    "model.score(X_test,y_test)"
   ]
  },
  {
   "cell_type": "code",
   "execution_count": null,
   "metadata": {},
   "outputs": [],
   "source": []
  },
  {
   "cell_type": "markdown",
   "metadata": {},
   "source": [
    "## save model"
   ]
  },
  {
   "cell_type": "code",
   "execution_count": 25,
   "metadata": {
    "ExecuteTime": {
     "end_time": "2019-03-20T08:59:39.599997Z",
     "start_time": "2019-03-20T08:59:36.197405Z"
    }
   },
   "outputs": [],
   "source": [
    "pickle.dump(model, open(\"model_M1.p\", \"wb\"))\n",
    "#model = pickle.load(open(\"model/model_M1.p\", \"rb\"))"
   ]
  },
  {
   "cell_type": "markdown",
   "metadata": {},
   "source": [
    "# predict on Test set"
   ]
  },
  {
   "cell_type": "code",
   "execution_count": 28,
   "metadata": {
    "ExecuteTime": {
     "end_time": "2019-03-20T09:40:32.897513Z",
     "start_time": "2019-03-20T08:59:50.507097Z"
    }
   },
   "outputs": [],
   "source": [
    "preds = model.predict(X_test)\n",
    "# time: 40min 42s"
   ]
  },
  {
   "cell_type": "code",
   "execution_count": 29,
   "metadata": {},
   "outputs": [
    {
     "data": {
      "text/plain": [
       "array([0, 1, 0, ..., 1, 1, 1], dtype=int8)"
      ]
     },
     "execution_count": 29,
     "metadata": {},
     "output_type": "execute_result"
    }
   ],
   "source": [
    "preds"
   ]
  },
  {
   "cell_type": "code",
   "execution_count": 33,
   "metadata": {},
   "outputs": [],
   "source": [
    "pickle.dump(preds, open(\"preds_M1.p\", \"wb\"))\n",
    "#preds=pickle.load(open(\"preds_M1.p\", \"rb\"))"
   ]
  },
  {
   "cell_type": "code",
   "execution_count": 40,
   "metadata": {},
   "outputs": [],
   "source": [
    "def plot_roc_auc(y_test, preds):\n",
    "    '''\n",
    "    Takes actual and predicted(probabilities) as input and plots the Receiver\n",
    "    Operating Characteristic (ROC) curve\n",
    "    '''\n",
    "    fpr, tpr, threshold = roc_curve(y_test, preds)\n",
    "    roc_auc = auc(fpr, tpr)\n",
    "    plt.title('Receiver Operating Characteristic')\n",
    "    plt.plot(fpr, tpr, 'b', label = 'AUC = %0.2f' % roc_auc)\n",
    "    plt.legend(loc = 'lower right')\n",
    "    plt.plot([0, 1], [0, 1],'r--')\n",
    "    plt.xlim([0, 1])\n",
    "    plt.ylim([0, 1])\n",
    "    plt.ylabel('True Positive Rate')\n",
    "    plt.xlabel('False Positive Rate')\n",
    "    plt.show()"
   ]
  },
  {
   "cell_type": "code",
   "execution_count": 45,
   "metadata": {},
   "outputs": [
    {
     "name": "stdout",
     "output_type": "stream",
     "text": [
      "Classification Report for K-Nearest Neighbours: \n",
      "               precision    recall  f1-score   support\n",
      "\n",
      "           0       0.64      0.65      0.64     49659\n",
      "           1       0.64      0.64      0.64     49341\n",
      "\n",
      "    accuracy                           0.64     99000\n",
      "   macro avg       0.64      0.64      0.64     99000\n",
      "weighted avg       0.64      0.64      0.64     99000\n",
      "\n",
      "Confusion Matrix of K-Nearest Neigbours: \n",
      " [[32106 17553]\n",
      " [17800 31541]]\n"
     ]
    },
    {
     "data": {
      "image/png": "[encoded data removed]",
      "text/plain": [
       "<Figure size 432x288 with 1 Axes>"
      ]
     },
     "metadata": {
      "needs_background": "light"
     },
     "output_type": "display_data"
    }
   ],
   "source": [
    "print(\"Classification Report for K-Nearest Neighbours: \\n\", classification_report(y_test, preds))\n",
    "print(\"Confusion Matrix of K-Nearest Neigbours: \\n\", confusion_matrix(y_test, preds))\n",
    "plot_roc_auc(y_test, preds)"
   ]
  },
  {
   "cell_type": "code",
   "execution_count": null,
   "metadata": {},
   "outputs": [],
   "source": [
    "preds_test = model.predict(test)"
   ]
  },
  {
   "cell_type": "code",
   "execution_count": null,
   "metadata": {},
   "outputs": [],
   "source": []
  },
  {
   "cell_type": "code",
   "execution_count": null,
   "metadata": {},
   "outputs": [],
   "source": []
  },
  {
   "cell_type": "code",
   "execution_count": null,
   "metadata": {},
   "outputs": [],
   "source": []
  },
  {
   "cell_type": "code",
   "execution_count": 19,
   "metadata": {
    "ExecuteTime": {
     "end_time": "2019-03-20T09:42:00.605510Z",
     "start_time": "2019-03-20T09:42:00.017688Z"
    }
   },
   "outputs": [],
   "source": [
    "# create submission\n",
    "submission = pd.DataFrame({data_id: test_ids, target: preds_test})"
   ]
  },
  {
   "cell_type": "code",
   "execution_count": 20,
   "metadata": {
    "ExecuteTime": {
     "end_time": "2019-03-20T09:43:30.259308Z",
     "start_time": "2019-03-20T09:43:30.255296Z"
    }
   },
   "outputs": [
    {
     "data": {
      "text/plain": [
       "(7853253, 2)"
      ]
     },
     "execution_count": 20,
     "metadata": {},
     "output_type": "execute_result"
    }
   ],
   "source": [
    "submission.shape\n"
   ]
  },
  {
   "cell_type": "code",
   "execution_count": 21,
   "metadata": {
    "ExecuteTime": {
     "end_time": "2019-03-20T09:43:40.979652Z",
     "start_time": "2019-03-20T09:43:40.956679Z"
    }
   },
   "outputs": [
    {
     "data": {
      "text/html": [
       "<div>\n",
       "<style scoped>\n",
       "    .dataframe tbody tr th:only-of-type {\n",
       "        vertical-align: middle;\n",
       "    }\n",
       "\n",
       "    .dataframe tbody tr th {\n",
       "        vertical-align: top;\n",
       "    }\n",
       "\n",
       "    .dataframe thead th {\n",
       "        text-align: right;\n",
       "    }\n",
       "</style>\n",
       "<table border=\"1\" class=\"dataframe\">\n",
       "  <thead>\n",
       "    <tr style=\"text-align: right;\">\n",
       "      <th></th>\n",
       "      <th>MachineIdentifier</th>\n",
       "      <th>HasDetections</th>\n",
       "    </tr>\n",
       "  </thead>\n",
       "  <tbody>\n",
       "    <tr>\n",
       "      <th>0</th>\n",
       "      <td>0000010489e3af074adeac69c53e555e</td>\n",
       "      <td>0.519442</td>\n",
       "    </tr>\n",
       "    <tr>\n",
       "      <th>1</th>\n",
       "      <td>00000176ac758d54827acd545b6315a5</td>\n",
       "      <td>0.652767</td>\n",
       "    </tr>\n",
       "    <tr>\n",
       "      <th>2</th>\n",
       "      <td>0000019dcefc128c2d4387c1273dae1d</td>\n",
       "      <td>0.548672</td>\n",
       "    </tr>\n",
       "    <tr>\n",
       "      <th>3</th>\n",
       "      <td>0000055553dc51b1295785415f1a224d</td>\n",
       "      <td>0.392367</td>\n",
       "    </tr>\n",
       "    <tr>\n",
       "      <th>4</th>\n",
       "      <td>00000574cefffeca83ec8adf9285b2bf</td>\n",
       "      <td>0.556916</td>\n",
       "    </tr>\n",
       "  </tbody>\n",
       "</table>\n",
       "</div>"
      ],
      "text/plain": [
       "                  MachineIdentifier  HasDetections\n",
       "0  0000010489e3af074adeac69c53e555e       0.519442\n",
       "1  00000176ac758d54827acd545b6315a5       0.652767\n",
       "2  0000019dcefc128c2d4387c1273dae1d       0.548672\n",
       "3  0000055553dc51b1295785415f1a224d       0.392367\n",
       "4  00000574cefffeca83ec8adf9285b2bf       0.556916"
      ]
     },
     "execution_count": 21,
     "metadata": {},
     "output_type": "execute_result"
    }
   ],
   "source": [
    "submission.head()"
   ]
  },
  {
   "cell_type": "code",
   "execution_count": 22,
   "metadata": {
    "ExecuteTime": {
     "end_time": "2019-03-20T09:44:16.585877Z",
     "start_time": "2019-03-20T09:43:54.415399Z"
    }
   },
   "outputs": [],
   "source": [
    "# save submission file\n",
    "submission.to_csv('Submission_M1.csv', index = False)"
   ]
  },
  {
   "cell_type": "markdown",
   "metadata": {},
   "source": [
    "# Feature Importance"
   ]
  },
  {
   "cell_type": "code",
   "execution_count": 23,
   "metadata": {
    "ExecuteTime": {
     "end_time": "2019-03-20T09:44:34.210833Z",
     "start_time": "2019-03-20T09:44:34.207840Z"
    }
   },
   "outputs": [],
   "source": [
    "# list of all features\n",
    "feature_names = list(train.columns)"
   ]
  },
  {
   "cell_type": "code",
   "execution_count": 24,
   "metadata": {
    "ExecuteTime": {
     "end_time": "2019-03-20T09:44:44.920736Z",
     "start_time": "2019-03-20T09:44:44.908700Z"
    }
   },
   "outputs": [],
   "source": [
    "# create feature importance\n",
    "feature_importances = pd.DataFrame({'feature': feature_names, 'importance': model.feature_importances_})"
   ]
  },
  {
   "cell_type": "code",
   "execution_count": 25,
   "metadata": {
    "ExecuteTime": {
     "end_time": "2019-03-20T09:44:58.841992Z",
     "start_time": "2019-03-20T09:44:58.833012Z"
    }
   },
   "outputs": [],
   "source": [
    "# sort for most important\n",
    "feature_importances = feature_importances.sort_values('importance', ascending = False).reset_index(drop = True)"
   ]
  },
  {
   "cell_type": "code",
   "execution_count": 26,
   "metadata": {
    "ExecuteTime": {
     "end_time": "2019-03-20T09:45:09.481249Z",
     "start_time": "2019-03-20T09:45:09.476262Z"
    }
   },
   "outputs": [],
   "source": [
    "# calculate normalized and cumulative feature importance\n",
    "feature_importances['normalized_importance'] = feature_importances['importance'] / feature_importances['importance'].sum()\n",
    "feature_importances['cumulative_importance'] = np.cumsum(feature_importances['normalized_importance'])"
   ]
  },
  {
   "cell_type": "code",
   "execution_count": 27,
   "metadata": {
    "ExecuteTime": {
     "end_time": "2019-03-20T09:45:20.188899Z",
     "start_time": "2019-03-20T09:45:20.171945Z"
    }
   },
   "outputs": [
    {
     "data": {
      "text/html": [
       "<div>\n",
       "<style scoped>\n",
       "    .dataframe tbody tr th:only-of-type {\n",
       "        vertical-align: middle;\n",
       "    }\n",
       "\n",
       "    .dataframe tbody tr th {\n",
       "        vertical-align: top;\n",
       "    }\n",
       "\n",
       "    .dataframe thead th {\n",
       "        text-align: right;\n",
       "    }\n",
       "</style>\n",
       "<table border=\"1\" class=\"dataframe\">\n",
       "  <thead>\n",
       "    <tr style=\"text-align: right;\">\n",
       "      <th></th>\n",
       "      <th>feature</th>\n",
       "      <th>importance</th>\n",
       "      <th>normalized_importance</th>\n",
       "      <th>cumulative_importance</th>\n",
       "    </tr>\n",
       "  </thead>\n",
       "  <tbody>\n",
       "    <tr>\n",
       "      <th>0</th>\n",
       "      <td>Census_InternalPrimaryDiagonalDisplaySizeInInches</td>\n",
       "      <td>152814</td>\n",
       "      <td>0.080091</td>\n",
       "      <td>0.080091</td>\n",
       "    </tr>\n",
       "    <tr>\n",
       "      <th>1</th>\n",
       "      <td>AvSigVersion</td>\n",
       "      <td>92491</td>\n",
       "      <td>0.048475</td>\n",
       "      <td>0.128567</td>\n",
       "    </tr>\n",
       "    <tr>\n",
       "      <th>2</th>\n",
       "      <td>CountryIdentifier</td>\n",
       "      <td>85290</td>\n",
       "      <td>0.044701</td>\n",
       "      <td>0.173268</td>\n",
       "    </tr>\n",
       "    <tr>\n",
       "      <th>3</th>\n",
       "      <td>CityIdentifier</td>\n",
       "      <td>77592</td>\n",
       "      <td>0.040667</td>\n",
       "      <td>0.213934</td>\n",
       "    </tr>\n",
       "    <tr>\n",
       "      <th>4</th>\n",
       "      <td>AVProductStatesIdentifier</td>\n",
       "      <td>76013</td>\n",
       "      <td>0.039839</td>\n",
       "      <td>0.253774</td>\n",
       "    </tr>\n",
       "    <tr>\n",
       "      <th>5</th>\n",
       "      <td>Census_SystemVolumeTotalCapacity</td>\n",
       "      <td>72400</td>\n",
       "      <td>0.037945</td>\n",
       "      <td>0.291719</td>\n",
       "    </tr>\n",
       "    <tr>\n",
       "      <th>6</th>\n",
       "      <td>index</td>\n",
       "      <td>69242</td>\n",
       "      <td>0.036290</td>\n",
       "      <td>0.328009</td>\n",
       "    </tr>\n",
       "    <tr>\n",
       "      <th>7</th>\n",
       "      <td>Census_OSInstallTypeName</td>\n",
       "      <td>68891</td>\n",
       "      <td>0.036106</td>\n",
       "      <td>0.364116</td>\n",
       "    </tr>\n",
       "    <tr>\n",
       "      <th>8</th>\n",
       "      <td>Census_ProcessorModelIdentifier</td>\n",
       "      <td>67113</td>\n",
       "      <td>0.035175</td>\n",
       "      <td>0.399290</td>\n",
       "    </tr>\n",
       "    <tr>\n",
       "      <th>9</th>\n",
       "      <td>Census_FirmwareVersionIdentifier</td>\n",
       "      <td>66093</td>\n",
       "      <td>0.034640</td>\n",
       "      <td>0.433930</td>\n",
       "    </tr>\n",
       "    <tr>\n",
       "      <th>10</th>\n",
       "      <td>Census_OEMModelIdentifier</td>\n",
       "      <td>61024</td>\n",
       "      <td>0.031983</td>\n",
       "      <td>0.465914</td>\n",
       "    </tr>\n",
       "    <tr>\n",
       "      <th>11</th>\n",
       "      <td>LocaleEnglishNameIdentifier</td>\n",
       "      <td>56494</td>\n",
       "      <td>0.029609</td>\n",
       "      <td>0.495523</td>\n",
       "    </tr>\n",
       "    <tr>\n",
       "      <th>12</th>\n",
       "      <td>Census_OSBuildRevision</td>\n",
       "      <td>55507</td>\n",
       "      <td>0.029092</td>\n",
       "      <td>0.524614</td>\n",
       "    </tr>\n",
       "    <tr>\n",
       "      <th>13</th>\n",
       "      <td>Census_OSVersion</td>\n",
       "      <td>53445</td>\n",
       "      <td>0.028011</td>\n",
       "      <td>0.552625</td>\n",
       "    </tr>\n",
       "    <tr>\n",
       "      <th>14</th>\n",
       "      <td>GeoNameIdentifier</td>\n",
       "      <td>50611</td>\n",
       "      <td>0.026526</td>\n",
       "      <td>0.579151</td>\n",
       "    </tr>\n",
       "    <tr>\n",
       "      <th>15</th>\n",
       "      <td>Wdft_RegionIdentifier</td>\n",
       "      <td>50208</td>\n",
       "      <td>0.026314</td>\n",
       "      <td>0.605465</td>\n",
       "    </tr>\n",
       "    <tr>\n",
       "      <th>16</th>\n",
       "      <td>AppVersion</td>\n",
       "      <td>48908</td>\n",
       "      <td>0.025633</td>\n",
       "      <td>0.631099</td>\n",
       "    </tr>\n",
       "    <tr>\n",
       "      <th>17</th>\n",
       "      <td>Census_ChassisTypeName</td>\n",
       "      <td>45038</td>\n",
       "      <td>0.023605</td>\n",
       "      <td>0.654703</td>\n",
       "    </tr>\n",
       "    <tr>\n",
       "      <th>18</th>\n",
       "      <td>Census_OSBranch</td>\n",
       "      <td>43250</td>\n",
       "      <td>0.022668</td>\n",
       "      <td>0.677371</td>\n",
       "    </tr>\n",
       "    <tr>\n",
       "      <th>19</th>\n",
       "      <td>SmartScreen</td>\n",
       "      <td>39668</td>\n",
       "      <td>0.020790</td>\n",
       "      <td>0.698161</td>\n",
       "    </tr>\n",
       "    <tr>\n",
       "      <th>20</th>\n",
       "      <td>Census_OEMNameIdentifier</td>\n",
       "      <td>35842</td>\n",
       "      <td>0.018785</td>\n",
       "      <td>0.716947</td>\n",
       "    </tr>\n",
       "    <tr>\n",
       "      <th>21</th>\n",
       "      <td>EngineVersion</td>\n",
       "      <td>33506</td>\n",
       "      <td>0.017561</td>\n",
       "      <td>0.734507</td>\n",
       "    </tr>\n",
       "    <tr>\n",
       "      <th>22</th>\n",
       "      <td>Census_PrimaryDiskTotalCapacity</td>\n",
       "      <td>31492</td>\n",
       "      <td>0.016505</td>\n",
       "      <td>0.751013</td>\n",
       "    </tr>\n",
       "    <tr>\n",
       "      <th>23</th>\n",
       "      <td>Census_OSUILocaleIdentifier</td>\n",
       "      <td>30609</td>\n",
       "      <td>0.016042</td>\n",
       "      <td>0.767055</td>\n",
       "    </tr>\n",
       "    <tr>\n",
       "      <th>24</th>\n",
       "      <td>OsBuildLab</td>\n",
       "      <td>28484</td>\n",
       "      <td>0.014929</td>\n",
       "      <td>0.781984</td>\n",
       "    </tr>\n",
       "    <tr>\n",
       "      <th>25</th>\n",
       "      <td>Census_OSInstallLanguageIdentifier</td>\n",
       "      <td>28454</td>\n",
       "      <td>0.014913</td>\n",
       "      <td>0.796897</td>\n",
       "    </tr>\n",
       "    <tr>\n",
       "      <th>26</th>\n",
       "      <td>OsPlatformSubRelease</td>\n",
       "      <td>27361</td>\n",
       "      <td>0.014340</td>\n",
       "      <td>0.811237</td>\n",
       "    </tr>\n",
       "    <tr>\n",
       "      <th>27</th>\n",
       "      <td>IeVerIdentifier</td>\n",
       "      <td>25418</td>\n",
       "      <td>0.013322</td>\n",
       "      <td>0.824559</td>\n",
       "    </tr>\n",
       "    <tr>\n",
       "      <th>28</th>\n",
       "      <td>Census_FirmwareManufacturerIdentifier</td>\n",
       "      <td>24396</td>\n",
       "      <td>0.012786</td>\n",
       "      <td>0.837345</td>\n",
       "    </tr>\n",
       "    <tr>\n",
       "      <th>29</th>\n",
       "      <td>Census_ActivationChannel</td>\n",
       "      <td>23375</td>\n",
       "      <td>0.012251</td>\n",
       "      <td>0.849596</td>\n",
       "    </tr>\n",
       "    <tr>\n",
       "      <th>...</th>\n",
       "      <td>...</td>\n",
       "      <td>...</td>\n",
       "      <td>...</td>\n",
       "      <td>...</td>\n",
       "    </tr>\n",
       "    <tr>\n",
       "      <th>40</th>\n",
       "      <td>Census_PrimaryDiskTypeName</td>\n",
       "      <td>10704</td>\n",
       "      <td>0.005610</td>\n",
       "      <td>0.943960</td>\n",
       "    </tr>\n",
       "    <tr>\n",
       "      <th>41</th>\n",
       "      <td>SkuEdition</td>\n",
       "      <td>8598</td>\n",
       "      <td>0.004506</td>\n",
       "      <td>0.948466</td>\n",
       "    </tr>\n",
       "    <tr>\n",
       "      <th>42</th>\n",
       "      <td>Census_MDC2FormFactor_new</td>\n",
       "      <td>8175</td>\n",
       "      <td>0.004285</td>\n",
       "      <td>0.952751</td>\n",
       "    </tr>\n",
       "    <tr>\n",
       "      <th>43</th>\n",
       "      <td>RtpStateBitfield</td>\n",
       "      <td>7952</td>\n",
       "      <td>0.004168</td>\n",
       "      <td>0.956919</td>\n",
       "    </tr>\n",
       "    <tr>\n",
       "      <th>44</th>\n",
       "      <td>Census_IsSecureBootEnabled</td>\n",
       "      <td>7604</td>\n",
       "      <td>0.003985</td>\n",
       "      <td>0.960904</td>\n",
       "    </tr>\n",
       "    <tr>\n",
       "      <th>45</th>\n",
       "      <td>OsBuild</td>\n",
       "      <td>7242</td>\n",
       "      <td>0.003796</td>\n",
       "      <td>0.964700</td>\n",
       "    </tr>\n",
       "    <tr>\n",
       "      <th>46</th>\n",
       "      <td>Census_PowerPlatformRoleName</td>\n",
       "      <td>6137</td>\n",
       "      <td>0.003216</td>\n",
       "      <td>0.967916</td>\n",
       "    </tr>\n",
       "    <tr>\n",
       "      <th>47</th>\n",
       "      <td>Census_FlightRing</td>\n",
       "      <td>5772</td>\n",
       "      <td>0.003025</td>\n",
       "      <td>0.970941</td>\n",
       "    </tr>\n",
       "    <tr>\n",
       "      <th>48</th>\n",
       "      <td>Census_OSBuildNumber</td>\n",
       "      <td>5570</td>\n",
       "      <td>0.002919</td>\n",
       "      <td>0.973861</td>\n",
       "    </tr>\n",
       "    <tr>\n",
       "      <th>49</th>\n",
       "      <td>AVProductsEnabled</td>\n",
       "      <td>5336</td>\n",
       "      <td>0.002797</td>\n",
       "      <td>0.976657</td>\n",
       "    </tr>\n",
       "    <tr>\n",
       "      <th>50</th>\n",
       "      <td>OsSuite</td>\n",
       "      <td>5294</td>\n",
       "      <td>0.002775</td>\n",
       "      <td>0.979432</td>\n",
       "    </tr>\n",
       "    <tr>\n",
       "      <th>51</th>\n",
       "      <td>Census_OSEdition</td>\n",
       "      <td>5123</td>\n",
       "      <td>0.002685</td>\n",
       "      <td>0.982117</td>\n",
       "    </tr>\n",
       "    <tr>\n",
       "      <th>52</th>\n",
       "      <td>IsProtected</td>\n",
       "      <td>4098</td>\n",
       "      <td>0.002148</td>\n",
       "      <td>0.984265</td>\n",
       "    </tr>\n",
       "    <tr>\n",
       "      <th>53</th>\n",
       "      <td>Census_OSSkuName</td>\n",
       "      <td>4001</td>\n",
       "      <td>0.002097</td>\n",
       "      <td>0.986362</td>\n",
       "    </tr>\n",
       "    <tr>\n",
       "      <th>54</th>\n",
       "      <td>IsSxsPassiveMode</td>\n",
       "      <td>3950</td>\n",
       "      <td>0.002070</td>\n",
       "      <td>0.988432</td>\n",
       "    </tr>\n",
       "    <tr>\n",
       "      <th>55</th>\n",
       "      <td>Firewall</td>\n",
       "      <td>3366</td>\n",
       "      <td>0.001764</td>\n",
       "      <td>0.990196</td>\n",
       "    </tr>\n",
       "    <tr>\n",
       "      <th>56</th>\n",
       "      <td>Census_HasOpticalDiskDrive</td>\n",
       "      <td>2970</td>\n",
       "      <td>0.001557</td>\n",
       "      <td>0.991753</td>\n",
       "    </tr>\n",
       "    <tr>\n",
       "      <th>57</th>\n",
       "      <td>Processor</td>\n",
       "      <td>2671</td>\n",
       "      <td>0.001400</td>\n",
       "      <td>0.993153</td>\n",
       "    </tr>\n",
       "    <tr>\n",
       "      <th>58</th>\n",
       "      <td>Census_OSArchitecture</td>\n",
       "      <td>2663</td>\n",
       "      <td>0.001396</td>\n",
       "      <td>0.994548</td>\n",
       "    </tr>\n",
       "    <tr>\n",
       "      <th>59</th>\n",
       "      <td>Census_IsTouchEnabled</td>\n",
       "      <td>2212</td>\n",
       "      <td>0.001159</td>\n",
       "      <td>0.995708</td>\n",
       "    </tr>\n",
       "    <tr>\n",
       "      <th>60</th>\n",
       "      <td>Census_ProcessorManufacturerIdentifier</td>\n",
       "      <td>1219</td>\n",
       "      <td>0.000639</td>\n",
       "      <td>0.996346</td>\n",
       "    </tr>\n",
       "    <tr>\n",
       "      <th>61</th>\n",
       "      <td>HasTpm</td>\n",
       "      <td>1113</td>\n",
       "      <td>0.000583</td>\n",
       "      <td>0.996930</td>\n",
       "    </tr>\n",
       "    <tr>\n",
       "      <th>62</th>\n",
       "      <td>Census_IsVirtualDevice</td>\n",
       "      <td>1074</td>\n",
       "      <td>0.000563</td>\n",
       "      <td>0.997493</td>\n",
       "    </tr>\n",
       "    <tr>\n",
       "      <th>63</th>\n",
       "      <td>OsVer</td>\n",
       "      <td>1009</td>\n",
       "      <td>0.000529</td>\n",
       "      <td>0.998021</td>\n",
       "    </tr>\n",
       "    <tr>\n",
       "      <th>64</th>\n",
       "      <td>Census_IsPenCapable</td>\n",
       "      <td>957</td>\n",
       "      <td>0.000502</td>\n",
       "      <td>0.998523</td>\n",
       "    </tr>\n",
       "    <tr>\n",
       "      <th>65</th>\n",
       "      <td>Census_IsAlwaysOnAlwaysConnectedCapable</td>\n",
       "      <td>809</td>\n",
       "      <td>0.000424</td>\n",
       "      <td>0.998947</td>\n",
       "    </tr>\n",
       "    <tr>\n",
       "      <th>66</th>\n",
       "      <td>Platform</td>\n",
       "      <td>768</td>\n",
       "      <td>0.000403</td>\n",
       "      <td>0.999350</td>\n",
       "    </tr>\n",
       "    <tr>\n",
       "      <th>67</th>\n",
       "      <td>SMode</td>\n",
       "      <td>710</td>\n",
       "      <td>0.000372</td>\n",
       "      <td>0.999722</td>\n",
       "    </tr>\n",
       "    <tr>\n",
       "      <th>68</th>\n",
       "      <td>Census_IsPortableOperatingSystem</td>\n",
       "      <td>474</td>\n",
       "      <td>0.000248</td>\n",
       "      <td>0.999970</td>\n",
       "    </tr>\n",
       "    <tr>\n",
       "      <th>69</th>\n",
       "      <td>Census_DeviceFamily</td>\n",
       "      <td>57</td>\n",
       "      <td>0.000030</td>\n",
       "      <td>1.000000</td>\n",
       "    </tr>\n",
       "  </tbody>\n",
       "</table>\n",
       "<p>70 rows × 4 columns</p>\n",
       "</div>"
      ],
      "text/plain": [
       "                                              feature  importance  \\\n",
       "0   Census_InternalPrimaryDiagonalDisplaySizeInInches      152814   \n",
       "1                                        AvSigVersion       92491   \n",
       "2                                   CountryIdentifier       85290   \n",
       "3                                      CityIdentifier       77592   \n",
       "4                           AVProductStatesIdentifier       76013   \n",
       "5                    Census_SystemVolumeTotalCapacity       72400   \n",
       "6                                               index       69242   \n",
       "7                            Census_OSInstallTypeName       68891   \n",
       "8                     Census_ProcessorModelIdentifier       67113   \n",
       "9                    Census_FirmwareVersionIdentifier       66093   \n",
       "10                          Census_OEMModelIdentifier       61024   \n",
       "11                        LocaleEnglishNameIdentifier       56494   \n",
       "12                             Census_OSBuildRevision       55507   \n",
       "13                                   Census_OSVersion       53445   \n",
       "14                                  GeoNameIdentifier       50611   \n",
       "15                              Wdft_RegionIdentifier       50208   \n",
       "16                                         AppVersion       48908   \n",
       "17                             Census_ChassisTypeName       45038   \n",
       "18                                    Census_OSBranch       43250   \n",
       "19                                        SmartScreen       39668   \n",
       "20                           Census_OEMNameIdentifier       35842   \n",
       "21                                      EngineVersion       33506   \n",
       "22                    Census_PrimaryDiskTotalCapacity       31492   \n",
       "23                        Census_OSUILocaleIdentifier       30609   \n",
       "24                                         OsBuildLab       28484   \n",
       "25                 Census_OSInstallLanguageIdentifier       28454   \n",
       "26                               OsPlatformSubRelease       27361   \n",
       "27                                    IeVerIdentifier       25418   \n",
       "28              Census_FirmwareManufacturerIdentifier       24396   \n",
       "29                           Census_ActivationChannel       23375   \n",
       "..                                                ...         ...   \n",
       "40                         Census_PrimaryDiskTypeName       10704   \n",
       "41                                         SkuEdition        8598   \n",
       "42                          Census_MDC2FormFactor_new        8175   \n",
       "43                                   RtpStateBitfield        7952   \n",
       "44                         Census_IsSecureBootEnabled        7604   \n",
       "45                                            OsBuild        7242   \n",
       "46                       Census_PowerPlatformRoleName        6137   \n",
       "47                                  Census_FlightRing        5772   \n",
       "48                               Census_OSBuildNumber        5570   \n",
       "49                                  AVProductsEnabled        5336   \n",
       "50                                            OsSuite        5294   \n",
       "51                                   Census_OSEdition        5123   \n",
       "52                                        IsProtected        4098   \n",
       "53                                   Census_OSSkuName        4001   \n",
       "54                                   IsSxsPassiveMode        3950   \n",
       "55                                           Firewall        3366   \n",
       "56                         Census_HasOpticalDiskDrive        2970   \n",
       "57                                          Processor        2671   \n",
       "58                              Census_OSArchitecture        2663   \n",
       "59                              Census_IsTouchEnabled        2212   \n",
       "60             Census_ProcessorManufacturerIdentifier        1219   \n",
       "61                                             HasTpm        1113   \n",
       "62                             Census_IsVirtualDevice        1074   \n",
       "63                                              OsVer        1009   \n",
       "64                                Census_IsPenCapable         957   \n",
       "65            Census_IsAlwaysOnAlwaysConnectedCapable         809   \n",
       "66                                           Platform         768   \n",
       "67                                              SMode         710   \n",
       "68                   Census_IsPortableOperatingSystem         474   \n",
       "69                                Census_DeviceFamily          57   \n",
       "\n",
       "    normalized_importance  cumulative_importance  \n",
       "0                0.080091               0.080091  \n",
       "1                0.048475               0.128567  \n",
       "2                0.044701               0.173268  \n",
       "3                0.040667               0.213934  \n",
       "4                0.039839               0.253774  \n",
       "5                0.037945               0.291719  \n",
       "6                0.036290               0.328009  \n",
       "7                0.036106               0.364116  \n",
       "8                0.035175               0.399290  \n",
       "9                0.034640               0.433930  \n",
       "10               0.031983               0.465914  \n",
       "11               0.029609               0.495523  \n",
       "12               0.029092               0.524614  \n",
       "13               0.028011               0.552625  \n",
       "14               0.026526               0.579151  \n",
       "15               0.026314               0.605465  \n",
       "16               0.025633               0.631099  \n",
       "17               0.023605               0.654703  \n",
       "18               0.022668               0.677371  \n",
       "19               0.020790               0.698161  \n",
       "20               0.018785               0.716947  \n",
       "21               0.017561               0.734507  \n",
       "22               0.016505               0.751013  \n",
       "23               0.016042               0.767055  \n",
       "24               0.014929               0.781984  \n",
       "25               0.014913               0.796897  \n",
       "26               0.014340               0.811237  \n",
       "27               0.013322               0.824559  \n",
       "28               0.012786               0.837345  \n",
       "29               0.012251               0.849596  \n",
       "..                    ...                    ...  \n",
       "40               0.005610               0.943960  \n",
       "41               0.004506               0.948466  \n",
       "42               0.004285               0.952751  \n",
       "43               0.004168               0.956919  \n",
       "44               0.003985               0.960904  \n",
       "45               0.003796               0.964700  \n",
       "46               0.003216               0.967916  \n",
       "47               0.003025               0.970941  \n",
       "48               0.002919               0.973861  \n",
       "49               0.002797               0.976657  \n",
       "50               0.002775               0.979432  \n",
       "51               0.002685               0.982117  \n",
       "52               0.002148               0.984265  \n",
       "53               0.002097               0.986362  \n",
       "54               0.002070               0.988432  \n",
       "55               0.001764               0.990196  \n",
       "56               0.001557               0.991753  \n",
       "57               0.001400               0.993153  \n",
       "58               0.001396               0.994548  \n",
       "59               0.001159               0.995708  \n",
       "60               0.000639               0.996346  \n",
       "61               0.000583               0.996930  \n",
       "62               0.000563               0.997493  \n",
       "63               0.000529               0.998021  \n",
       "64               0.000502               0.998523  \n",
       "65               0.000424               0.998947  \n",
       "66               0.000403               0.999350  \n",
       "67               0.000372               0.999722  \n",
       "68               0.000248               0.999970  \n",
       "69               0.000030               1.000000  \n",
       "\n",
       "[70 rows x 4 columns]"
      ]
     },
     "execution_count": 27,
     "metadata": {},
     "output_type": "execute_result"
    }
   ],
   "source": [
    "feature_importances"
   ]
  },
  {
   "cell_type": "code",
   "execution_count": 28,
   "metadata": {
    "ExecuteTime": {
     "end_time": "2019-03-20T09:45:31.217325Z",
     "start_time": "2019-03-20T09:45:31.211343Z"
    }
   },
   "outputs": [],
   "source": [
    "feature_importances.to_csv('../feature_importances/FeatureImportance_M1.csv', index = False)"
   ]
  }
 ],
 "metadata": {
  "hide_input": false,
  "kernelspec": {
   "display_name": "Python 3",
   "language": "python",
   "name": "python3"
  },
  "language_info": {
   "codemirror_mode": {
    "name": "ipython",
    "version": 3
   },
   "file_extension": ".py",
   "mimetype": "text/x-python",
   "name": "python",
   "nbconvert_exporter": "python",
   "pygments_lexer": "ipython3",
   "version": "3.7.4"
  },
  "toc": {
   "base_numbering": 1,
   "nav_menu": {},
   "number_sections": true,
   "sideBar": true,
   "skip_h1_title": false,
   "title_cell": "Table of Contents",
   "title_sidebar": "Contents",
   "toc_cell": false,
   "toc_position": {},
   "toc_section_display": true,
   "toc_window_display": false
  },
  "varInspector": {
   "cols": {
    "lenName": 16,
    "lenType": 16,
    "lenVar": 40
   },
   "kernels_config": {
    "python": {
     "delete_cmd_postfix": "",
     "delete_cmd_prefix": "del ",
     "library": "var_list.py",
     "varRefreshCmd": "print(var_dic_list())"
    },
    "r": {
     "delete_cmd_postfix": ") ",
     "delete_cmd_prefix": "rm(",
     "library": "var_list.r",
     "varRefreshCmd": "cat(var_dic_list()) "
    }
   },
   "types_to_exclude": [
    "module",
    "function",
    "builtin_function_or_method",
    "instance",
    "_Feature"
   ],
   "window_display": false
  }
 },
 "nbformat": 4,
 "nbformat_minor": 2
}
